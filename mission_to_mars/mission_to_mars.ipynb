{
 "cells": [
  {
   "cell_type": "code",
   "execution_count": 1,
   "metadata": {},
   "outputs": [],
   "source": [
    "from splinter import Browser\n",
    "from bs4 import BeautifulSoup"
   ]
  },
  {
   "cell_type": "code",
   "execution_count": 2,
   "metadata": {},
   "outputs": [],
   "source": [
    "executable_path = {'executable_path': 'C:\\\\Users\\\\itsja\\\\Desktop\\\\mission_to_mars\\\\chromedriver.exe'}\n",
    "browser = Browser('chrome', **executable_path)"
   ]
  },
  {
   "cell_type": "code",
   "execution_count": 3,
   "metadata": {},
   "outputs": [],
   "source": [
    "# url = 'https://mars.nasa.gov/news/'\n",
    "# browser.visit(url)\n",
    "\n",
    "# browser.is_element_present_by_css(\"ul.item_list li.slide\", wait_time=1)"
   ]
  },
  {
   "cell_type": "code",
   "execution_count": 4,
   "metadata": {},
   "outputs": [],
   "source": [
    "# html = browser.html\n",
    "# news_soup = BeautifulSoup(html, 'html.parser')"
   ]
  },
  {
   "cell_type": "code",
   "execution_count": 5,
   "metadata": {},
   "outputs": [],
   "source": [
    "# slide = news_soup.select_one('ul.item_list li.slide')\n",
    "# news_title = slide.find('div', class_='content_title').get_text()\n",
    "# news_paragraph = slide.find('div', class_='article_teaser_body').get_text()\n",
    "\n",
    "# print(news_title)\n",
    "# print(news_paragraph)\n",
    "\n",
    "\n"
   ]
  },
  {
   "cell_type": "code",
   "execution_count": 6,
   "metadata": {},
   "outputs": [],
   "source": [
    "# browser.visit('https://www.jpl.nasa.gov/spaceimages/?search=&category=Mars')\n",
    "\n",
    "# browser.find_by_id('full_image').click()\n",
    "# browser.is_element_present_by_css('more info', wait_time=2)\n",
    "\n",
    "# browser.find_link_by_partial_text('more info').click()\n",
    "\n",
    "# img_soup = BeautifulSoup(browser.html, 'html.parser')\n",
    "# img_rel = img_soup.select_one('figure.lede a img').get('src')\n",
    "# full_img = 'https://www.jpl.nasa.gov' + img_rel\n",
    "\n",
    "# # print(img_rel)\n",
    "# print(full_img)"
   ]
  },
  {
   "cell_type": "code",
   "execution_count": 7,
   "metadata": {},
   "outputs": [
    {
     "name": "stdout",
     "output_type": "stream",
     "text": [
      "The #Mars2020 rover gets her wheels from the pit crew with PhDs\n",
      "https://mars.nasa.gov/mars2020/mission/where-is-the-rover/ …pic.twitter.com/DRHHZpRI3f\n"
     ]
    }
   ],
   "source": [
    "browser.visit('https://twitter.com/marswxreport?lang=en')\n",
    "weather_soup = BeautifulSoup(browser.html, 'html.parser')\n",
    "\n",
    "browser.is_element_present_by_css('tweet-text', wait_time=2)\n",
    "weather_soup = BeautifulSoup(browser.html, 'html.parser')\n",
    "\n",
    "weather_tweet = weather_soup.select_one('p.tweet-text').get_text()\n",
    "print(weather_tweet)\n"
   ]
  },
  {
   "cell_type": "code",
   "execution_count": null,
   "metadata": {},
   "outputs": [],
   "source": []
  }
 ],
 "metadata": {
  "kernelspec": {
   "display_name": "Python 3",
   "language": "python",
   "name": "python3"
  },
  "language_info": {
   "codemirror_mode": {
    "name": "ipython",
    "version": 3
   },
   "file_extension": ".py",
   "mimetype": "text/x-python",
   "name": "python",
   "nbconvert_exporter": "python",
   "pygments_lexer": "ipython3",
   "version": "3.6.8"
  }
 },
 "nbformat": 4,
 "nbformat_minor": 2
}
